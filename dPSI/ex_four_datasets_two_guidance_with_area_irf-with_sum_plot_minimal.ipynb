{
 "cells": [
  {
   "attachments": {},
   "cell_type": "markdown",
   "id": "c79ab90d",
   "metadata": {
    "tags": []
   },
   "source": [
    "# Time-resolved emission case study of whole photosynthetic cells"
   ]
  },
  {
   "attachments": {},
   "cell_type": "markdown",
   "id": "30f29119",
   "metadata": {
    "tags": []
   },
   "source": [
    "Acuña AM, Van Alphen P, Van Grondelle R, Van Stokkum IHM (2018) The phycobilisome terminal emitter transfers its energy with a rate of (20 ps)–1 to photosystem II. Photosynthetica 56 (1):265-274. doi:10.1007/s11099-018-0779-7"
   ]
  },
  {
   "attachments": {},
   "cell_type": "markdown",
   "id": "22e2c059",
   "metadata": {
    "tags": []
   },
   "source": [
    "# Inspect experimental data\n"
   ]
  },
  {
   "cell_type": "code",
   "execution_count": null,
   "id": "749b6b86",
   "metadata": {
    "tags": []
   },
   "outputs": [],
   "source": [
    "from pyglotaran_extras import plot_data_overview\n",
    "\n",
    "experiment_data = {\n",
    "    \"DPSI400tr2\": \"experiment_data/RT400_590excDPSIjul30tr24KtargetPB10b.ascii\",\n",
    "    \"DPSI590tr2\": \"experiment_data/RT400_590excDPSIjul30tr24KtargetPB10d.ascii\",\n",
    "    \"DPSI400tr4\": \"experiment_data/RT400_590excDPSIjul30tr24KtargetPB10a.ascii\",\n",
    "    \"DPSI590tr4\": \"experiment_data/RT400_590excDPSIjul30tr24KtargetPB10c.ascii\",\n",
    "    \"data_guide_s1\": \"experiment_data/RT400_590excDPSIjul30tr24KtargetPB10e.ascii\",\n",
    "    \"data_guide_s4\": \"experiment_data/RT400_590excDPSIjul30tr24KtargetPB10f.ascii\",\n",
    "}\n",
    "\n",
    "plot_data_overview(experiment_data[\"DPSI400tr4\"], linlog=True, linthresh=150);"
   ]
  },
  {
   "cell_type": "markdown",
   "id": "925f31fc",
   "metadata": {
    "tags": []
   },
   "source": [
    "# Create a project and import the data"
   ]
  },
  {
   "cell_type": "code",
   "execution_count": null,
   "id": "b9c3b7a0",
   "metadata": {
    "tags": []
   },
   "outputs": [],
   "source": [
    "from glotaran.project import Project\n",
    "\n",
    "project = Project.open(\"\")\n",
    "project.import_data(experiment_data)"
   ]
  },
  {
   "attachments": {},
   "cell_type": "markdown",
   "id": "f909422e",
   "metadata": {
    "tags": []
   },
   "source": [
    "# Model and Parameter definition\n"
   ]
  },
  {
   "cell_type": "code",
   "execution_count": null,
   "id": "661ddb0d",
   "metadata": {
    "tags": []
   },
   "outputs": [],
   "source": [
    "# project.show_model_definition(\"model_DPSI_guidance_with_area_irf_fractions\")"
   ]
  },
  {
   "cell_type": "code",
   "execution_count": null,
   "id": "cdbc37a8",
   "metadata": {
    "tags": []
   },
   "outputs": [],
   "source": [
    "# project.show_parameters_definition(\"optimized_parameters\", as_dataframe=True)"
   ]
  },
  {
   "attachments": {},
   "cell_type": "markdown",
   "id": "9e0b15a0",
   "metadata": {
    "tags": []
   },
   "source": [
    "# Optimization\n"
   ]
  },
  {
   "attachments": {},
   "cell_type": "markdown",
   "id": "6b0c3647",
   "metadata": {
    "tags": []
   },
   "source": [
    "some notes that can later be deleted\n",
    "-  7         1.0352e+07 (no area penalty)\n",
    "-  7         1.0355e+07 (with area penalty)\n",
    "- 6              7         1.0352e+07      3.25e-02\n",
    "- 3              4         1.0067e+07 (with 8 additional free scalem parameters)\n",
    "-       6              7         1.0067e+07      5.57e-03       1.05e-04       1.25e+02    \n",
    "`ftol` termination condition is satisfied.\n",
    "- after changing (fractions) the megacomplex scale parameters 1.0068e+07\n",
    "- note that the numbers differ from the published table, probably this is related to the normalization, but i am not sure.\n",
    "- what probably is also different is the area penalty, here weight 0.01"
   ]
  },
  {
   "cell_type": "code",
   "execution_count": null,
   "id": "f3e9747c",
   "metadata": {
    "tags": []
   },
   "outputs": [],
   "source": [
    "result = project.optimize(\n",
    "    model_name=\"model_DPSI_guidance_with_area_irf_fractions\",\n",
    "    parameters_name=\"optimized_parameters\",\n",
    "    clp_link_tolerance=1.9,\n",
    "    maximum_number_function_evaluations=7,\n",
    ")"
   ]
  },
  {
   "attachments": {},
   "cell_type": "markdown",
   "id": "1995f613",
   "metadata": {
    "tags": []
   },
   "source": [
    "## Inspect fit quality\n"
   ]
  },
  {
   "cell_type": "code",
   "execution_count": null,
   "id": "5dde4c72",
   "metadata": {
    "tags": []
   },
   "outputs": [],
   "source": [
    "result"
   ]
  },
  {
   "cell_type": "code",
   "execution_count": null,
   "id": "1a2f3f38",
   "metadata": {
    "tags": []
   },
   "outputs": [],
   "source": [
    "result.optimized_parameters"
   ]
  },
  {
   "attachments": {},
   "cell_type": "markdown",
   "id": "83b8a25a",
   "metadata": {
    "tags": []
   },
   "source": [
    "## Plot fitted traces\n"
   ]
  },
  {
   "cell_type": "code",
   "execution_count": null,
   "id": "cf7e72b3",
   "metadata": {
    "tags": []
   },
   "outputs": [],
   "source": [
    "from pyglotaran_extras.plotting.plot_traces import plot_fitted_traces\n",
    "from pyglotaran_extras.plotting.plot_traces import select_plot_wavelengths\n",
    "\n",
    "wavelengths = select_plot_wavelengths(result, axes_shape=[6, 5])\n",
    "fig, axes = plot_fitted_traces(result, wavelengths, axes_shape=[6, 5], linlog=True, linthresh=150)\n",
    "for ax in axes.flatten():\n",
    "    ax_title = ax.get_title()\n",
    "    ax.set_title(rf\"{ax_title}$\\,$nm\")"
   ]
  },
  {
   "cell_type": "code",
   "execution_count": null,
   "id": "cadff7f3",
   "metadata": {
    "tags": []
   },
   "outputs": [],
   "source": [
    "from pyglotaran_extras.plotting.plot_traces import plot_fitted_traces\n",
    "from pyglotaran_extras.plotting.plot_traces import select_plot_wavelengths\n",
    "\n",
    "wavelengths = [630, 650, 660, 680]\n",
    "fig, axes = plot_fitted_traces(\n",
    "    result,\n",
    "    wavelengths,\n",
    "    axes_shape=[2, 2],\n",
    "    linlog=True,\n",
    "    linthresh=100,\n",
    "    figsize=(10, 7),\n",
    ")\n",
    "axes[1][0].set_xlabel(\"Time (ps)\")\n",
    "axes[1][1].set_xlabel(\"Time (ps)\")\n",
    "axes[0][0].set_xlabel(\"\")\n",
    "axes[0][0].set_ylabel(\"\")\n",
    "axes[1][0].set_ylabel(\"\")\n",
    "# axes[0][0].axhline(0, color=\"k\", linewidth=1)\n",
    "# axes[1][0].axhline(0, color=\"k\", linewidth=1)\n",
    "axes[0][1].set_xlabel(\"\")\n",
    "axes[0][1].set_ylabel(\"\")\n",
    "axes[1][1].set_ylabel(\"\")\n",
    "# axes[1][1].set_xlabel(\"Wavelength (nm)\")\n",
    "# axes[0][0].set_title(\"Concentrations\")\n",
    "# axes[0][1].set_title(\"SAS\")\n",
    "# axes[1][1].set_title(\"\")\n",
    "# axes[0][1].axhline(0, color=\"k\", linewidth=1)\n",
    "axes[0][0].annotate(\"A\", xy=(0.01, 0.9), xycoords=\"axes fraction\", fontsize=16)\n",
    "# axes[0][0].annotate(\"590 exc\", xy=(0.01, 0.85), xycoords=\"axes fraction\",fontsize=16)\n",
    "# axes[1][0].annotate(\"400 exc\", xy=(0.01, 0.85), xycoords=\"axes fraction\",fontsize=16)\n",
    "axes[0][1].annotate(\"B\", xy=(0.01, 0.9), xycoords=\"axes fraction\", fontsize=16)\n",
    "axes[1][0].annotate(\"C\", xy=(0.01, 0.9), xycoords=\"axes fraction\", fontsize=16)\n",
    "axes[1][1].annotate(\"D\", xy=(0.01, 0.9), xycoords=\"axes fraction\", fontsize=16)\n",
    "\n",
    "for ax in axes.flatten():\n",
    "    ax_title = ax.get_title()\n",
    "    ax.set_title(rf\"{ax_title}$\\,$nm\")"
   ]
  },
  {
   "attachments": {},
   "cell_type": "markdown",
   "id": "aada39c0",
   "metadata": {
    "tags": []
   },
   "source": [
    "# Plot result for interpretation\n",
    "\n",
    "## Overview\n"
   ]
  },
  {
   "cell_type": "code",
   "execution_count": null,
   "id": "278212aa",
   "metadata": {
    "tags": []
   },
   "outputs": [],
   "source": [
    "from pyglotaran_extras import plot_overview\n",
    "\n",
    "plot_overview(result.data[\"DPSI590tr4\"], linlog=True, linthresh=150, nr_of_residual_svd_vectors=1)"
   ]
  },
  {
   "cell_type": "code",
   "execution_count": null,
   "id": "872fb0ea",
   "metadata": {
    "tags": []
   },
   "outputs": [],
   "source": [
    "plot_overview(result.data[\"DPSI400tr4\"], linlog=True, linthresh=150, nr_of_residual_svd_vectors=1)"
   ]
  },
  {
   "cell_type": "code",
   "execution_count": null,
   "id": "06694214",
   "metadata": {
    "tags": []
   },
   "outputs": [],
   "source": [
    "combined_concentration = {\n",
    "    \"PC640\": [\"s8\", \"s9\", \"s10\"],\n",
    "    \"PC650\": [\"s5\", \"s6\", \"s7\"],\n",
    "    \"APC660\": [\n",
    "        \"s1\",\n",
    "        \"s2\",\n",
    "        \"s3\",\n",
    "    ],\n",
    "    \"APC680\": [\"s4\"],\n",
    "    \"PSII\": [\"s11\", \"s13\"],\n",
    "}"
   ]
  },
  {
   "cell_type": "code",
   "execution_count": null,
   "id": "c3f606af",
   "metadata": {
    "tags": []
   },
   "outputs": [],
   "source": [
    "import matplotlib.pyplot as plt\n",
    "from cycler import cycler\n",
    "from pyglotaran_extras.plotting.style import ColorCode\n",
    "from pyglotaran_extras.plotting.style import PlotStyle\n",
    "from pyglotaran_extras.plotting.utils import add_cycler_if_not_none\n",
    "from pyglotaran_extras.plotting.utils import extract_irf_location\n",
    "from pyglotaran_extras.plotting.utils import shift_time_axis_by_irf_location\n",
    "\n",
    "# myFRLcolors=['c','b','r','k','g','tab:grey','tab:orange',  'tab:purple','m','y', 'tab:brown']\n",
    "myFRLcolors = [\n",
    "    ColorCode.cyan,\n",
    "    \"b\",\n",
    "    \"r\",\n",
    "    \"k\",\n",
    "    ColorCode.green,\n",
    "    \"tab:grey\",\n",
    "    \"tab:orange\",\n",
    "    \"tab:purple\",\n",
    "    \"m\",\n",
    "    \"y\",\n",
    "    \"tab:brown\",\n",
    "]\n",
    "custom_cycler = cycler(color=myFRLcolors)\n",
    "\n",
    "ds_name = \"DPSI590tr4\"\n",
    "\n",
    "\n",
    "def only_existing_values(values, check_list):\n",
    "    return [value for value in values if value in check_list]\n",
    "\n",
    "\n",
    "concentration = result.data[ds_name].species_concentration\n",
    "sas = result.data[ds_name].species_associated_spectra\n",
    "\n",
    "concentration_dict = {}\n",
    "\n",
    "for key, val in combined_concentration.items():\n",
    "    species_labels = only_existing_values(combined_concentration[key], concentration.species)\n",
    "\n",
    "    concentration_dict[key] = (\n",
    "        concentration.sel(spectral=0, method=\"nearest\")\n",
    "        .sel(species=species_labels)\n",
    "        .sum(dim=\"species\")\n",
    "        .drop(\"spectral\")\n",
    "    )\n",
    "\n",
    "\n",
    "plot_dim = (2, 2)\n",
    "\n",
    "# fig, axes = plt.subplots(*plot_dim, figsize=(10, 7),sharex='col')\n",
    "fig, axes = plt.subplots(*plot_dim, figsize=(10, 7))\n",
    "for ax in axes.flatten():\n",
    "    add_cycler_if_not_none(ax, custom_cycler)\n",
    "    # add_cycler_if_not_none(ax, PlotStyle().cycler)\n",
    "\n",
    "irf_location = extract_irf_location(result.data[ds_name], 0)\n",
    "\n",
    "for key, val in concentration_dict.items():\n",
    "    shift_time_axis_by_irf_location(val, irf_location=irf_location).plot(\n",
    "        x=\"time\", label=key, ax=axes[0][0]\n",
    "    )\n",
    "\n",
    "for species in combined_concentration.values():\n",
    "    species_labels = only_existing_values(species, sas.species)\n",
    "    sas.sel(species=species_labels[0]).plot(x=\"spectral\", label=species, ax=axes[0][1])\n",
    "\n",
    "\n",
    "ds_name = \"DPSI400tr4\"\n",
    "\n",
    "\n",
    "def only_existing_values(values, check_list):\n",
    "    return [value for value in values if value in check_list]\n",
    "\n",
    "\n",
    "concentration = result.data[ds_name].species_concentration\n",
    "sas = result.data[ds_name].species_associated_spectra\n",
    "\n",
    "concentration_dict = {}\n",
    "\n",
    "for key, val in combined_concentration.items():\n",
    "    species_labels = only_existing_values(combined_concentration[key], concentration.species)\n",
    "\n",
    "    concentration_dict[key] = (\n",
    "        concentration.sel(spectral=0, method=\"nearest\")\n",
    "        .sel(species=species_labels)\n",
    "        .sum(dim=\"species\")\n",
    "        .drop(\"spectral\")\n",
    "    )\n",
    "\n",
    "for ax in axes.flatten():\n",
    "    add_cycler_if_not_none(ax, custom_cycler)\n",
    "    # add_cycler_if_not_none(ax, PlotStyle().cycler)\n",
    "\n",
    "irf_location = extract_irf_location(result.data[ds_name], 0)\n",
    "\n",
    "for key, val in concentration_dict.items():\n",
    "    shift_time_axis_by_irf_location(val, irf_location=irf_location).plot(\n",
    "        x=\"time\", label=key, ax=axes[1][0]\n",
    "    )\n",
    "\n",
    "for species in combined_concentration.values():\n",
    "    species_labels = only_existing_values(species, sas.species)\n",
    "    sas.sel(species=species_labels[0]).plot(x=\"spectral\", label=species, ax=axes[1][1])\n",
    "\n",
    "axes[0][0].set_xscale(\"symlog\", linthresh=100, linscale=1)\n",
    "\n",
    "axes[0][0].legend()\n",
    "\n",
    "axes[1][0].set_xscale(\"symlog\", linthresh=100, linscale=1)\n",
    "\n",
    "# axes[1][0].legend()\n",
    "axes[1][0].set_xlabel(\"Time (ps)\")\n",
    "axes[0][0].set_xlabel(\"\")\n",
    "axes[0][0].set_ylabel(\"\")\n",
    "axes[1][0].set_ylabel(\"\")\n",
    "axes[0][0].axhline(0, color=\"k\", linewidth=1)\n",
    "axes[1][0].axhline(0, color=\"k\", linewidth=1)\n",
    "axes[0][1].set_xlabel(\"\")\n",
    "axes[0][1].set_ylabel(\"\")\n",
    "axes[1][1].set_ylabel(\"\")\n",
    "axes[1][1].set_xlabel(\"Wavelength (nm)\")\n",
    "axes[0][0].set_title(\"Concentrations\")\n",
    "axes[0][1].set_title(\"SAS\")\n",
    "axes[1][1].set_title(\"\")\n",
    "axes[0][1].axhline(0, color=\"k\", linewidth=1)\n",
    "axes[1][1].axhline(0, color=\"k\", linewidth=1)\n",
    "axes[0][0].annotate(\"A\", xy=(0.01, 0.93), xycoords=\"axes fraction\", fontsize=16)\n",
    "axes[0][0].annotate(\"590 exc\", xy=(0.01, 0.85), xycoords=\"axes fraction\", fontsize=16)\n",
    "axes[1][0].annotate(\"400 exc\", xy=(0.01, 0.85), xycoords=\"axes fraction\", fontsize=16)\n",
    "axes[0][1].annotate(\"B\", xy=(0.01, 0.93), xycoords=\"axes fraction\", fontsize=16)\n",
    "axes[1][0].annotate(\"C\", xy=(0.01, 0.93), xycoords=\"axes fraction\", fontsize=16)\n",
    "axes[1][1].annotate(\"D\", xy=(0.01, 0.93), xycoords=\"axes fraction\", fontsize=16)\n",
    "\n",
    "\n",
    "fig.tight_layout()"
   ]
  },
  {
   "attachments": {},
   "cell_type": "markdown",
   "id": "365c157d",
   "metadata": {
    "tags": []
   },
   "source": [
    "## Fit of the guidance SAS"
   ]
  },
  {
   "cell_type": "code",
   "execution_count": null,
   "id": "c06d9203",
   "metadata": {
    "tags": []
   },
   "outputs": [],
   "source": [
    "# fig, ax = plt.subplots(1, 1, figsize=(15, 7))\n",
    "fig, ax = plt.subplots(1, 1, figsize=(10, 5))\n",
    "ax.set_prop_cycle(PlotStyle().data_cycler_solid_dashed)\n",
    "for data_set_suffix in [\"s1\", \"s4\"]:\n",
    "    dataset_name = f\"data_guide_{data_set_suffix}\"\n",
    "    result.data[dataset_name].data.plot(label=f\"{dataset_name} data\", ax=ax)\n",
    "    result.data[dataset_name].fitted_data.plot(label=f\"{dataset_name} fitted data\", ax=ax)\n",
    "\n",
    "ax.legend()\n",
    "ax.set_xlabel(\"Wavelength (nm)\")\n",
    "ax.set_ylabel(\"\")\n",
    "ax.set_title(\"Fit of the guidance SAS\")\n",
    "ax.axhline(0, color=\"k\", linewidth=1)\n",
    "# axes[0].annotate(\"A\", xy=(-0.05, 1.02), xycoords=\"axes fraction\",fontsize=16)"
   ]
  },
  {
   "attachments": {},
   "cell_type": "markdown",
   "id": "0daa27fa",
   "metadata": {
    "tags": []
   },
   "source": [
    "## Amplitude matrices of the target analysis for each dataset"
   ]
  },
  {
   "cell_type": "code",
   "execution_count": null,
   "id": "dc46ce58",
   "metadata": {
    "tags": []
   },
   "outputs": [],
   "source": [
    "from pyglotaran_extras.inspect import show_a_matrixes\n",
    "\n",
    "show_a_matrixes(result)"
   ]
  },
  {
   "attachments": {},
   "cell_type": "markdown",
   "id": "f6d797a6",
   "metadata": {
    "tags": []
   },
   "source": [
    "- NB1 with the non-transferring PB megacomplex (complex 5) there is no PSII compartment (s11 or s13) and the double sum equals 1 minus the PSII input at that wavelength.\n",
    "- NB2 the dummy compartments s15 and s16 have zero SAS, and are used to accumulate the decay of the PB. thus with complex 1 (400 exc, open) we find a very small amount of emission lost via PB (7.7%), with complex 2 (400 exc, closed) it is 16.2%. with complex 3 (590 exc, open) we find 13.7% and with complex 4 (590 exc, closed) 21.6%. Thus one may conclude that in complexes of PB with open PSII RCs about 90% of the absorbed photons results in charge separation, and ~10% is lost via emission from PB."
   ]
  }
 ],
 "metadata": {
  "kernelspec": {
   "display_name": "pyglotaran310",
   "language": "python",
   "name": "python3"
  },
  "language_info": {
   "codemirror_mode": {
    "name": "ipython",
    "version": 3
   },
   "file_extension": ".py",
   "mimetype": "text/x-python",
   "name": "python",
   "nbconvert_exporter": "python",
   "pygments_lexer": "ipython3"
  }
 },
 "nbformat": 4,
 "nbformat_minor": 5
}
