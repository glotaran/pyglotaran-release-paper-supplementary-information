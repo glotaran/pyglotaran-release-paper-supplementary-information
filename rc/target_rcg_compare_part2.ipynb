{
 "cells": [
  {
   "attachments": {},
   "cell_type": "markdown",
   "id": "0fc60f45",
   "metadata": {
    "tags": []
   },
   "source": [
    "# Transient absorption case study of the chromophoric systems rc and rcg"
   ]
  },
  {
   "attachments": {},
   "cell_type": "markdown",
   "id": "f398543f",
   "metadata": {
    "tags": []
   },
   "source": [
    "## part 2 rcg target"
   ]
  },
  {
   "attachments": {},
   "cell_type": "markdown",
   "id": "14053bec",
   "metadata": {
    "tags": []
   },
   "source": [
    "## part 2 rcg target"
   ]
  },
  {
   "attachments": {},
   "cell_type": "markdown",
   "id": "5492233f",
   "metadata": {
    "tags": []
   },
   "source": [
    "van Stokkum IHM, Wohlmuth C, Würthner F, Williams RM (2022) Energy transfer in supramolecular calix[4]arene—Perylene bisimide dye light harvesting building blocks: Resolving loss processes with simultaneous target analysis. Journal of Photochemistry and Photobiology 12:100154. doi:https://doi.org/10.1016/j.jpap.2022.100154"
   ]
  },
  {
   "attachments": {},
   "cell_type": "markdown",
   "id": "6781b9df",
   "metadata": {
    "tags": []
   },
   "source": [
    "# Inspect experimental data\n"
   ]
  },
  {
   "attachments": {},
   "cell_type": "markdown",
   "id": "d9b0ae7b",
   "metadata": {
    "tags": []
   },
   "source": [
    "The guidance spectra used here have been prepared outside of pyglotaran. In the rc notebook (part 1) it is described how guidance spectra can be created."
   ]
  },
  {
   "cell_type": "code",
   "execution_count": null,
   "id": "d5179477",
   "metadata": {
    "tags": []
   },
   "outputs": [],
   "source": [
    "from pyglotaran_extras import plot_data_overview\n",
    "\n",
    "experiment_data = {\n",
    "    \"tas_rcg_dcm\": \"experiment_data/Krg_grga.ascii\",\n",
    "    \"guide_rcg_r1\": \"experiment_data/Krg_grgc.ascii\",\n",
    "    \"guide_rcg_r2\": \"experiment_data/Krg_grgd.ascii\",\n",
    "    \"guide_rcg_r3\": \"experiment_data/Krg_grge.ascii\",\n",
    "    \"guide_rcg_r4\": \"experiment_data/Krg_grgf.ascii\",\n",
    "    \"guide_rcg_g\": \"experiment_data/Krg_grgg.ascii\",\n",
    "}\n",
    "\n",
    "plot_data_overview(experiment_data[\"tas_rcg_dcm\"], linlog=True, linthresh=1);"
   ]
  },
  {
   "cell_type": "markdown",
   "id": "aa693746",
   "metadata": {
    "tags": []
   },
   "source": [
    "# Create a project and import the data"
   ]
  },
  {
   "cell_type": "code",
   "execution_count": null,
   "id": "0d860a13",
   "metadata": {
    "tags": []
   },
   "outputs": [],
   "source": [
    "from glotaran.project import Project\n",
    "\n",
    "project = Project.open(\"\")\n",
    "project.import_data(experiment_data)"
   ]
  },
  {
   "attachments": {},
   "cell_type": "markdown",
   "id": "d12f4742",
   "metadata": {
    "tags": []
   },
   "source": [
    "# Model and Parameter definition\n"
   ]
  },
  {
   "cell_type": "code",
   "execution_count": null,
   "id": "28f9b7e3",
   "metadata": {
    "tags": []
   },
   "outputs": [],
   "source": [
    "project.show_model_definition(\"target_rcg_refine\")"
   ]
  },
  {
   "attachments": {},
   "cell_type": "markdown",
   "id": "d44d8e47",
   "metadata": {
    "tags": []
   },
   "source": [
    "![figure_rcg][def]\n",
    "\n",
    "[def]: ./formula.png"
   ]
  },
  {
   "cell_type": "code",
   "execution_count": null,
   "id": "af87a7cd",
   "metadata": {
    "tags": []
   },
   "outputs": [],
   "source": [
    "project.show_parameters_definition(\"target_rcg_refine\")"
   ]
  },
  {
   "attachments": {},
   "cell_type": "markdown",
   "id": "444d8417",
   "metadata": {
    "tags": []
   },
   "source": [
    "# Optimization\n"
   ]
  },
  {
   "attachments": {},
   "cell_type": "markdown",
   "id": "5b19605e",
   "metadata": {
    "tags": []
   },
   "source": [
    "1.0408e+04 nev 1\n",
    "new\n",
    "8.9719e+03 nev 1 !\n"
   ]
  },
  {
   "cell_type": "code",
   "execution_count": null,
   "id": "ab0e88ec",
   "metadata": {
    "tags": []
   },
   "outputs": [],
   "source": [
    "result = project.optimize(\n",
    "    model_name=\"target_rcg_refine\",\n",
    "    parameters_name=\"target_rcg_refine\",\n",
    "    clp_link_tolerance=1.9,\n",
    "    maximum_number_function_evaluations=1,\n",
    ")"
   ]
  },
  {
   "attachments": {},
   "cell_type": "markdown",
   "id": "3fbeb9bc",
   "metadata": {
    "tags": []
   },
   "source": [
    "## Inspect fit quality\n"
   ]
  },
  {
   "cell_type": "code",
   "execution_count": null,
   "id": "8dc81da8",
   "metadata": {
    "tags": []
   },
   "outputs": [],
   "source": [
    "result"
   ]
  },
  {
   "attachments": {},
   "cell_type": "markdown",
   "id": "a45432a9",
   "metadata": {
    "tags": []
   },
   "source": [
    "## Plot fitted traces\n"
   ]
  },
  {
   "cell_type": "code",
   "execution_count": null,
   "id": "e7e6887e",
   "metadata": {
    "tags": []
   },
   "outputs": [],
   "source": [
    "from pyglotaran_extras.plotting.plot_traces import plot_fitted_traces\n",
    "from pyglotaran_extras.plotting.plot_traces import select_plot_wavelengths\n",
    "\n",
    "wavelengths = select_plot_wavelengths(\n",
    "    result.data[\"tas_rcg_dcm\"], equidistant_wavelengths=False, axes_shape=[6, 5]\n",
    ")\n",
    "fig3tr, axes = plot_fitted_traces(result, wavelengths, axes_shape=[6, 5], linlog=True, linthresh=1)"
   ]
  },
  {
   "cell_type": "code",
   "execution_count": null,
   "id": "05da348a",
   "metadata": {
    "tags": []
   },
   "outputs": [],
   "source": [
    "import matplotlib.pyplot as plt\n",
    "from cycler import cycler\n",
    "from pyglotaran_extras.plotting.plot_concentrations import plot_concentrations\n",
    "from pyglotaran_extras.plotting.plot_spectra import plot_sas\n",
    "\n",
    "myFRLcolors = [\n",
    "    \"tab:grey\",\n",
    "    \"tab:orange\",\n",
    "    \"r\",\n",
    "    \"tab:purple\",\n",
    "    \"g\",\n",
    "    \"k\",\n",
    "    \"b\",\n",
    "    \"m\",\n",
    "    \"c\",\n",
    "    \"y\",\n",
    "    \"tab:brown\",\n",
    "]\n",
    "custom_cycler = cycler(color=myFRLcolors)\n",
    "\n",
    "\n",
    "def plot_concentration_and_spectra(result_dataset):\n",
    "    # fig, axes = plt.subplots(1, 2, figsize=(18, 7))\n",
    "    fig, axes = plt.subplots(1, 2, figsize=(15, 4))\n",
    "    plot_concentrations(result_dataset, axes[0], center_λ=0, linlog=True, cycler=custom_cycler)\n",
    "    plot_sas(result_dataset, axes[1], cycler=custom_cycler)\n",
    "    return fig, axes\n",
    "\n",
    "\n",
    "fig, axes = plot_concentration_and_spectra(result.data[\"tas_rcg_dcm\"])\n",
    "axes[0].set_xlabel(\"Time (ps)\")\n",
    "axes[0].set_ylabel(\"\")\n",
    "axes[0].axhline(0, color=\"k\", linewidth=1)\n",
    "axes[1].set_xlabel(\"Wavelength (nm)\")\n",
    "axes[1].set_ylabel(\"SADS (mOD)\")\n",
    "axes[1].set_title(\"SADS\")\n",
    "axes[1].axhline(0, color=\"k\", linewidth=1)\n",
    "axes[0].annotate(\"A\", xy=(-0.05, 1.02), xycoords=\"axes fraction\", fontsize=16)\n",
    "axes[1].annotate(\"B\", xy=(-0.05, 1.02), xycoords=\"axes fraction\", fontsize=16)"
   ]
  },
  {
   "attachments": {},
   "cell_type": "markdown",
   "id": "d0b9a727",
   "metadata": {
    "tags": []
   },
   "source": [
    "# Plot result for interpretation\n",
    "\n",
    "## Overview\n"
   ]
  },
  {
   "cell_type": "code",
   "execution_count": null,
   "id": "d17a2feb",
   "metadata": {
    "tags": []
   },
   "outputs": [],
   "source": [
    "# from pyglotaran_extras import plot_overview\n",
    "\n",
    "# plot_overview(result, linlog=True, linthresh=1, figure_only=False);"
   ]
  },
  {
   "attachments": {},
   "cell_type": "markdown",
   "id": "c170df56",
   "metadata": {
    "tags": []
   },
   "source": [
    "## Fit of the guidance SADS\n"
   ]
  },
  {
   "cell_type": "code",
   "execution_count": null,
   "id": "72c39519",
   "metadata": {
    "tags": []
   },
   "outputs": [],
   "source": [
    "from pyglotaran_extras.plotting.style import PlotStyle\n",
    "\n",
    "# fig, ax = plt.subplots(1, 1, figsize=(15, 7))\n",
    "fig, ax = plt.subplots(1, 1, figsize=(10, 5))\n",
    "ax.set_prop_cycle(PlotStyle().data_cycler_solid_dashed)\n",
    "for data_set_suffix in [\"r1\", \"r2\", \"r3\", \"r4\", \"g\"]:\n",
    "    dataset_name = f\"guide_rcg_{data_set_suffix}\"\n",
    "    result.data[dataset_name].data.plot(label=f\"{dataset_name} data\", ax=ax)\n",
    "    result.data[dataset_name].fitted_data.plot(label=f\"{dataset_name} fitted data\", ax=ax)\n",
    "\n",
    "ax.legend()\n",
    "ax.set_xlabel(\"Wavelength (nm)\")\n",
    "ax.set_ylabel(\"SADS (a.u.)\")\n",
    "ax.set_title(\"Fit of the guidance SADS\")\n",
    "ax.axhline(0, color=\"k\", linewidth=1)\n",
    "# axes[0].annotate(\"A\", xy=(-0.05, 1.02), xycoords=\"axes fraction\",fontsize=16)"
   ]
  },
  {
   "attachments": {},
   "cell_type": "markdown",
   "id": "42dfe26a",
   "metadata": {
    "tags": []
   },
   "source": [
    "## Plot of the concentrations"
   ]
  },
  {
   "cell_type": "code",
   "execution_count": null,
   "id": "63f28cfc",
   "metadata": {
    "tags": []
   },
   "outputs": [],
   "source": [
    "# NB here one needs to select the species_concentration of a single wavelength\n",
    "import xarray as xr\n",
    "from cycler import cycler\n",
    "\n",
    "# fig, ax = plt.subplots(1, 1, figsize=(15, 7))\n",
    "fig, ax = plt.subplots(1, 1, figsize=(10, 5))\n",
    "myFRLcolors = [\"tab:grey\", \"tab:orange\", \"r\", \"tab:purple\", \"g\", \"k\"]\n",
    "center_λ = 600\n",
    "\n",
    "\n",
    "def plot_concentrations_compare(dataset=xr.Dataset, linestyle=str):\n",
    "    plot_concentrations(\n",
    "        dataset,\n",
    "        ax=ax,\n",
    "        center_λ=center_λ,\n",
    "        cycler=cycler(color=myFRLcolors, linestyle=[linestyle] * 6),\n",
    "        linlog=True,\n",
    "        linthresh=1,\n",
    "    )\n",
    "\n",
    "\n",
    "plot_concentrations_compare(result.data[\"tas_rcg_dcm\"], \"-\")\n",
    "# plot_concentrations_compare(result.data[\"tas_gcrcg_dcm\"], \"--\")\n",
    "# plot_concentrations_compare(result.data[\"tas_rcgcr_dcm\"], \":\")\n",
    "\n",
    "\n",
    "ax.set_xlabel(\"Time (ps)\")\n",
    "ax.set_ylabel(\"Population\")\n",
    "ax.legend(result.data[\"tas_rcg_dcm\"].species.values);"
   ]
  },
  {
   "attachments": {},
   "cell_type": "markdown",
   "id": "f92189e8",
   "metadata": {
    "tags": []
   },
   "source": [
    "## Coherent Artifact\n"
   ]
  },
  {
   "cell_type": "code",
   "execution_count": null,
   "id": "4f039986",
   "metadata": {
    "tags": []
   },
   "outputs": [],
   "source": [
    "from pyglotaran_extras import plot_coherent_artifact\n",
    "\n",
    "irfas_plot_wavelength = 420\n",
    "\n",
    "fig, axes = plot_coherent_artifact(\n",
    "    result.data[\"tas_rcg_dcm\"],\n",
    "    time_range=(-0.3, 0.3),\n",
    "    spectral=irfas_plot_wavelength,\n",
    "    figsize=(10, 3),\n",
    ")\n",
    "axes[0].set_xlabel(\"Time (ps)\")\n",
    "axes[0].set_ylabel(\"\")\n",
    "axes[0].get_legend().remove()\n",
    "# axes[0].axhline(0, color=\"k\", linewidth=1)\n",
    "axes[1].set_xlabel(\"Wavelength (nm)\")\n",
    "# axes[1].set_ylabel(\"SADS (mOD)\")\n",
    "# axes[1].set_title(\"SADS\")\n",
    "# axes[1].axhline(0, color=\"k\", linewidth=1)\n",
    "axes[0].annotate(\"A\", xy=(0.01, 0.91), xycoords=\"axes fraction\", fontsize=16)\n",
    "axes[1].annotate(\"B\", xy=(0.01, 0.91), xycoords=\"axes fraction\", fontsize=16)"
   ]
  },
  {
   "attachments": {},
   "cell_type": "markdown",
   "id": "ba22b3f1",
   "metadata": {
    "tags": []
   },
   "source": [
    "## Amplitude matrix of the rcg target analysis"
   ]
  },
  {
   "cell_type": "code",
   "execution_count": null,
   "id": "679ea780",
   "metadata": {
    "tags": []
   },
   "outputs": [],
   "source": [
    "from pyglotaran_extras.inspect import show_a_matrixes\n",
    "\n",
    "show_a_matrixes(result)"
   ]
  },
  {
   "attachments": {},
   "cell_type": "markdown",
   "id": "aba94586",
   "metadata": {
    "tags": []
   },
   "source": [
    "## Target analysis using a kinetic scheme without the Radical Pair state (noRP)"
   ]
  },
  {
   "cell_type": "code",
   "execution_count": null,
   "id": "bf0061ab",
   "metadata": {
    "tags": []
   },
   "outputs": [],
   "source": [
    "result_noRP = project.optimize(\n",
    "    model_name=\"target_noRP_rcg_refine\",\n",
    "    parameters_name=\"target_noRP_rcg_refine\",\n",
    "    clp_link_tolerance=1.9,\n",
    "    maximum_number_function_evaluations=7,\n",
    ")"
   ]
  },
  {
   "cell_type": "code",
   "execution_count": null,
   "id": "9c814864",
   "metadata": {
    "tags": []
   },
   "outputs": [],
   "source": [
    "result"
   ]
  },
  {
   "cell_type": "code",
   "execution_count": null,
   "id": "35b17b69",
   "metadata": {
    "tags": []
   },
   "outputs": [],
   "source": [
    "result_noRP"
   ]
  },
  {
   "attachments": {},
   "cell_type": "markdown",
   "id": "03bd9849",
   "metadata": {
    "tags": []
   },
   "source": [
    "## Comparison of the first left and right singular vectors of the residual matrices of the two models (RP vs noRP)"
   ]
  },
  {
   "cell_type": "code",
   "execution_count": null,
   "id": "30a0254a",
   "metadata": {
    "tags": []
   },
   "outputs": [],
   "source": [
    "from pyglotaran_extras.plotting.plot_svd import plot_lsv_residual\n",
    "from pyglotaran_extras.plotting.plot_svd import plot_rsv_residual\n",
    "\n",
    "\n",
    "def plot_svd_panel(result_dataset, result2_dataset, linlog=True):\n",
    "    fig, axes = plt.subplots(2, 2, figsize=(10, 7), squeeze=False)\n",
    "    plot_lsv_residual(result_dataset, axes[1][0], indices=[0], linlog=linlog, linthresh=1)\n",
    "    plot_rsv_residual(result_dataset, axes[1][1], indices=[0])\n",
    "    plot_lsv_residual(result2_dataset, axes[0][0], indices=[0], linlog=linlog, linthresh=1)\n",
    "    plot_rsv_residual(result2_dataset, axes[0][1], indices=[0])\n",
    "\n",
    "    return fig, axes\n",
    "\n",
    "\n",
    "fig, axes = plot_svd_panel(result.data[\"tas_rcg_dcm\"], result_noRP.data[\"tas_rcg_dcm\"])\n",
    "axes[0][0].get_legend().remove()\n",
    "axes[0][0].set_xlabel(\"Time (ps)\")\n",
    "axes[0][0].set_xlabel(\"\")\n",
    "axes[0][0].set_ylabel(\"\")\n",
    "axes[0][1].get_legend().remove()\n",
    "axes[0][1].set_xlabel(\"Wavelength (nm)\")\n",
    "axes[0][1].set_xlabel(\"\")\n",
    "axes[0][1].set_ylabel(\"\")\n",
    "axes[1][0].get_legend().remove()\n",
    "axes[1][0].set_xlabel(\"Time (ps)\")\n",
    "axes[1][0].set_ylabel(\"\")\n",
    "axes[1][1].get_legend().remove()\n",
    "axes[1][1].set_xlabel(\"Wavelength (nm)\")\n",
    "axes[1][1].set_ylabel(\"\")\n",
    "axes[1][0].set_title(\"residual with RP 1st LSV\")\n",
    "axes[1][1].set_title(\"residual with RP 1st RSV\")\n",
    "axes[0][0].set_title(\"residual no RP 1st LSV\")\n",
    "axes[0][1].set_title(\"residual no RP 1st RSV\")\n",
    "axes[0][0].annotate(\"A\", xy=(0.01, 0.92), xycoords=\"axes fraction\", fontsize=16)\n",
    "axes[0][1].annotate(\"B\", xy=(0.01, 0.92), xycoords=\"axes fraction\", fontsize=16)\n",
    "axes[1][0].annotate(\"C\", xy=(0.01, 0.92), xycoords=\"axes fraction\", fontsize=16)\n",
    "axes[1][1].annotate(\"D\", xy=(0.01, 0.92), xycoords=\"axes fraction\", fontsize=16)\n",
    "for ax in axes[0:3, 0:3].flatten():\n",
    "    ax.axhline(0, color=\"k\", linewidth=1)\n",
    "fig.tight_layout()"
   ]
  }
 ],
 "metadata": {
  "kernelspec": {
   "display_name": "pyglotaran310",
   "language": "python",
   "name": "python3"
  },
  "language_info": {
   "codemirror_mode": {
    "name": "ipython",
    "version": 3
   },
   "file_extension": ".py",
   "mimetype": "text/x-python",
   "name": "python",
   "nbconvert_exporter": "python",
   "pygments_lexer": "ipython3"
  }
 },
 "nbformat": 4,
 "nbformat_minor": 5
}
