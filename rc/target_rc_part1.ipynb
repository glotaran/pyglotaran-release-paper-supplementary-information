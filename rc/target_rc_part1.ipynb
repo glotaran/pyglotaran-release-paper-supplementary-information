{
 "cells": [
  {
   "attachments": {},
   "cell_type": "markdown",
   "id": "59ff4305",
   "metadata": {
    "tags": []
   },
   "source": [
    "# Transient absorption case study of the chromophoric systems rc and rcg\n",
    "## part 1 rc target"
   ]
  },
  {
   "attachments": {},
   "cell_type": "markdown",
   "id": "15479fc9",
   "metadata": {
    "tags": []
   },
   "source": [
    "van Stokkum IHM, Wohlmuth C, Würthner F, Williams RM (2022) \n",
    "Energy transfer in supramolecular calix[4]arene—Perylene bisimide dye light harvesting building blocks: Resolving loss processes with simultaneous target analysis. \n",
    "Journal of Photochemistry and Photobiology 12:100154. doi:https://doi.org/10.1016/j.jpap.2022.100154"
   ]
  },
  {
   "attachments": {},
   "cell_type": "markdown",
   "id": "fbfdd5ed",
   "metadata": {
    "tags": []
   },
   "source": [
    "# Inspect experimental data"
   ]
  },
  {
   "cell_type": "code",
   "execution_count": null,
   "id": "cbfd821b",
   "metadata": {
    "tags": []
   },
   "outputs": [],
   "source": [
    "from pyglotaran_extras import plot_data_overview\n",
    "\n",
    "experiment_data = \"experiment_data/cr_dcm_raw.ascii\"\n",
    "\n",
    "plot_data_overview(experiment_data, linlog=True, linthresh=1);"
   ]
  },
  {
   "attachments": {},
   "cell_type": "markdown",
   "id": "07e509fd",
   "metadata": {
    "tags": []
   },
   "source": [
    "# Create a project and import the data"
   ]
  },
  {
   "cell_type": "code",
   "execution_count": null,
   "id": "e74a7b68",
   "metadata": {
    "tags": []
   },
   "outputs": [],
   "source": [
    "from glotaran.project import Project\n",
    "\n",
    "project = Project.open(\"\")\n",
    "project.import_data(experiment_data, dataset_name=\"rc_raw\")"
   ]
  },
  {
   "attachments": {},
   "cell_type": "markdown",
   "id": "64f4db94",
   "metadata": {
    "tags": []
   },
   "source": [
    "# Model and Parameter definition\n"
   ]
  },
  {
   "cell_type": "code",
   "execution_count": null,
   "id": "d7c719b0",
   "metadata": {
    "tags": []
   },
   "outputs": [],
   "source": [
    "project.show_model_definition(\"target_rc_initial\")"
   ]
  },
  {
   "cell_type": "code",
   "execution_count": null,
   "id": "2003d4e9",
   "metadata": {
    "tags": []
   },
   "outputs": [],
   "source": [
    "project.show_parameters_definition(\"target_rc\")"
   ]
  },
  {
   "attachments": {},
   "cell_type": "markdown",
   "id": "0e11faa6",
   "metadata": {
    "tags": []
   },
   "source": [
    "# Optimization\n"
   ]
  },
  {
   "attachments": {},
   "cell_type": "markdown",
   "id": "bd27ce9d",
   "metadata": {
    "tags": []
   },
   "source": [
    "- 3              4         3.2520e+03      2.91e-05       6.71e-06       4.70e-01"
   ]
  },
  {
   "cell_type": "code",
   "execution_count": null,
   "id": "a5161d8f",
   "metadata": {
    "tags": []
   },
   "outputs": [],
   "source": [
    "initial_result = project.optimize(\n",
    "    model_name=\"target_rc_initial\",\n",
    "    parameters_name=\"target_rc\",\n",
    "    clp_link_tolerance=1.9,\n",
    "    maximum_number_function_evaluations=7,\n",
    ")"
   ]
  },
  {
   "attachments": {},
   "cell_type": "markdown",
   "id": "c5ab1423",
   "metadata": {
    "tags": []
   },
   "source": [
    "## Inspect fit quality\n"
   ]
  },
  {
   "cell_type": "code",
   "execution_count": null,
   "id": "ef54574d",
   "metadata": {
    "tags": []
   },
   "outputs": [],
   "source": [
    "initial_result"
   ]
  },
  {
   "cell_type": "markdown",
   "id": "92bb6938",
   "metadata": {},
   "source": [
    "## without any clp constraints the number of conditionally linear parameters, 4 SADS + 3 IRFAS, is 7*nl (nl=number of wavelengths)"
   ]
  },
  {
   "cell_type": "code",
   "execution_count": null,
   "id": "0572fd9c",
   "metadata": {},
   "outputs": [],
   "source": [
    "7 * initial_result.data[\"rc_raw\"].spectral.size"
   ]
  },
  {
   "cell_type": "code",
   "execution_count": null,
   "id": "ff94ef9e",
   "metadata": {},
   "outputs": [],
   "source": [
    "from pyglotaran_extras.plotting.plot_traces import plot_fitted_traces\n",
    "from pyglotaran_extras.plotting.plot_traces import select_plot_wavelengths\n",
    "\n",
    "wavelengths = select_plot_wavelengths(\n",
    "    initial_result, equidistant_wavelengths=False, axes_shape=[6, 5]\n",
    ")\n",
    "fig3tr, axes = plot_fitted_traces(\n",
    "    initial_result, wavelengths, axes_shape=[6, 5], linlog=True, linthresh=1\n",
    ")"
   ]
  },
  {
   "cell_type": "code",
   "execution_count": null,
   "id": "73628331",
   "metadata": {},
   "outputs": [],
   "source": [
    "from pyglotaran_extras import plot_overview\n",
    "\n",
    "plot_overview(\n",
    "    initial_result, linlog=True, linthresh=10, figure_only=False, nr_of_residual_svd_vectors=1\n",
    ");"
   ]
  },
  {
   "attachments": {},
   "cell_type": "markdown",
   "id": "4a690560",
   "metadata": {},
   "source": [
    "We see that the residual is dominated by something that happens before the IRF and thus decide to do some pre processing of the data."
   ]
  },
  {
   "cell_type": "code",
   "execution_count": null,
   "id": "776e0d72",
   "metadata": {},
   "outputs": [],
   "source": [
    "from pyglotaran_extras.plotting.utils import select_irf_dispersion_center_by_index\n",
    "\n",
    "irf_center_location = select_irf_dispersion_center_by_index(\n",
    "    initial_result.data[\"rc_raw\"].irf_center_location\n",
    ")"
   ]
  },
  {
   "cell_type": "code",
   "execution_count": null,
   "id": "a6ae4f34",
   "metadata": {},
   "outputs": [],
   "source": [
    "pre_irf_mask = initial_result.data[\"rc_raw\"].time < irf_center_location - 0.2\n",
    "masked_data = initial_result.data[\"rc_raw\"].data.where(pre_irf_mask)\n",
    "masked_data_copy = masked_data.copy()\n",
    "(masked_data_copy.assign_coords({\"time\": range(masked_data.time.size)})).plot(x=\"time\")"
   ]
  },
  {
   "cell_type": "code",
   "execution_count": null,
   "id": "21c2e482",
   "metadata": {},
   "outputs": [],
   "source": [
    "baseline = masked_data.mean(dim=\"time\").dropna(\"spectral\")\n",
    "baseline.plot(x=\"spectral\")"
   ]
  },
  {
   "attachments": {},
   "cell_type": "markdown",
   "id": "689651bf",
   "metadata": {},
   "source": [
    "Since the values below 380nm and above 850nm have a bad signal to noise ration we remove them after we subtract the baseline."
   ]
  },
  {
   "cell_type": "code",
   "execution_count": null,
   "id": "0ab21ca9",
   "metadata": {},
   "outputs": [],
   "source": [
    "baseline_corrected_data = (initial_result.data[\"rc_raw\"].data - baseline).sel(\n",
    "    spectral=slice(380, 850)\n",
    ")\n",
    "baseline_corrected_data.where(pre_irf_mask).plot(x=\"time\", xscale=\"symlog\")"
   ]
  },
  {
   "cell_type": "code",
   "execution_count": null,
   "id": "21c522ff",
   "metadata": {},
   "outputs": [],
   "source": [
    "initial_result.data[\"rc_raw\"].sel(spectral=slice(380, 850)).where(pre_irf_mask).data.plot(\n",
    "    x=\"time\", xscale=\"symlog\"\n",
    ")"
   ]
  },
  {
   "attachments": {},
   "cell_type": "markdown",
   "id": "dd77bffe",
   "metadata": {},
   "source": [
    "We can also see a peak in the residual that has roughly the shape of the IRF shifted by about 4.5ps.\n",
    "This is most obvious in the first left singular vector of the residual."
   ]
  },
  {
   "cell_type": "code",
   "execution_count": null,
   "id": "82d4b602",
   "metadata": {},
   "outputs": [],
   "source": [
    "(irf_center_location + 4.5).plot(y=\"spectral\", color=\"k\")\n",
    "initial_result.data[\"rc_raw\"].residual.sel(time=slice(4, 8)).plot(x=\"time\")"
   ]
  },
  {
   "cell_type": "code",
   "execution_count": null,
   "id": "dec253e4",
   "metadata": {},
   "outputs": [],
   "source": [
    "lsv_data_selection = initial_result.data[\"rc_raw\"].weighted_residual_left_singular_vectors.sel(\n",
    "    time=slice(4, 8), left_singular_value_index=0\n",
    ")\n",
    "lsv_data_selection.plot()\n",
    "\n",
    "spike_mask = lsv_data_selection < -0.01\n",
    "time_points_to_drop = spike_mask.time.where(spike_mask).dropna(\"time\")\n",
    "time_points_to_drop"
   ]
  },
  {
   "cell_type": "code",
   "execution_count": null,
   "id": "e1e7c1a0",
   "metadata": {},
   "outputs": [],
   "source": [
    "baseline_and_spike_corrected_data = baseline_corrected_data.drop_sel(time=time_points_to_drop)\n",
    "baseline_and_spike_corrected_data.plot(x=\"time\", xscale=\"symlog\")"
   ]
  },
  {
   "attachments": {},
   "cell_type": "markdown",
   "id": "3a2ffeea",
   "metadata": {},
   "source": [
    "To reduce the noise in the data we calculate a moving average with a window size of 2 along the spectral axis.\n",
    "Since since make the information from each single wavelength now partially present in 2 wavelengths we ca drop every second value."
   ]
  },
  {
   "cell_type": "code",
   "execution_count": null,
   "id": "66b3d8bc",
   "metadata": {},
   "outputs": [],
   "source": [
    "corrected_rc_data = (\n",
    "    baseline_and_spike_corrected_data.rolling(spectral=2)\n",
    "    .mean()\n",
    "    .dropna(\"spectral\")\n",
    "    .sel(spectral=slice(None, None, 2))\n",
    ")\n",
    "corrected_rc_data.plot(x=\"time\", xscale=\"symlog\")"
   ]
  },
  {
   "cell_type": "code",
   "execution_count": null,
   "id": "1e165f4c",
   "metadata": {},
   "outputs": [],
   "source": [
    "corrected_rc_data"
   ]
  },
  {
   "attachments": {},
   "cell_type": "markdown",
   "id": "a51f435c",
   "metadata": {},
   "source": [
    "Before importing the corrected data in out project we multiply them by 1000 to convert the unit from OD to mOD."
   ]
  },
  {
   "cell_type": "code",
   "execution_count": null,
   "id": "0aac4cca",
   "metadata": {},
   "outputs": [],
   "source": [
    "project.import_data(corrected_rc_data * 1_000, dataset_name=\"rc\")"
   ]
  },
  {
   "cell_type": "code",
   "execution_count": null,
   "id": "db49adfb",
   "metadata": {},
   "outputs": [],
   "source": [
    "import matplotlib.pyplot as plt\n",
    "from cycler import cycler\n",
    "from pyglotaran_extras.plotting.plot_concentrations import plot_concentrations\n",
    "from pyglotaran_extras.plotting.plot_spectra import plot_sas\n",
    "\n",
    "myFRLcolors = [\n",
    "    \"tab:grey\",\n",
    "    \"tab:orange\",\n",
    "    \"r\",\n",
    "    \"tab:purple\",\n",
    "    \"b\",\n",
    "    \"g\",\n",
    "    \"m\",\n",
    "    \"c\",\n",
    "    \"y\",\n",
    "    \"k\",\n",
    "    \"tab:brown\",\n",
    "]\n",
    "custom_cycler = cycler(color=myFRLcolors)\n",
    "\n",
    "\n",
    "def plot_concentration_and_spectra(result_dataset):\n",
    "    # fig, axes = plt.subplots(1, 2, figsize=(18, 7))\n",
    "    fig, axes = plt.subplots(1, 2, figsize=(15, 4))\n",
    "    plot_concentrations(result_dataset, axes[0], center_λ=0, linlog=True, cycler=custom_cycler)\n",
    "    plot_sas(result_dataset, axes[1], cycler=custom_cycler)\n",
    "    return fig, axes\n",
    "\n",
    "\n",
    "fig, axes = plot_concentration_and_spectra(initial_result.data[\"rc_raw\"])\n",
    "axes[0].set_xlabel(\"Time (ps)\")\n",
    "axes[0].set_ylabel(\"\")\n",
    "axes[0].axhline(0, color=\"k\", linewidth=1)\n",
    "axes[1].set_xlabel(\"Wavelength (nm)\")\n",
    "axes[1].set_ylabel(\"SADS (OD)\")\n",
    "axes[1].set_title(\"SADS\")\n",
    "axes[1].axhline(0, color=\"k\", linewidth=1)\n",
    "axes[0].annotate(\"A\", xy=(-0.05, 1.02), xycoords=\"axes fraction\", fontsize=16)\n",
    "axes[1].annotate(\"B\", xy=(-0.05, 1.02), xycoords=\"axes fraction\", fontsize=16)"
   ]
  },
  {
   "attachments": {},
   "cell_type": "markdown",
   "id": "678b3ab6",
   "metadata": {},
   "source": [
    "The first SADS (r1, grey) without any clp constraints is too rough to use as a guidance spectrum, and therefore it must be regularized, here with the help of equality constraints"
   ]
  },
  {
   "cell_type": "code",
   "execution_count": null,
   "id": "5ea0cdca",
   "metadata": {},
   "outputs": [],
   "source": [
    "project.show_model_definition(\"target_rc\")"
   ]
  },
  {
   "cell_type": "code",
   "execution_count": null,
   "id": "b887dc7c",
   "metadata": {},
   "outputs": [],
   "source": [
    "result = project.optimize(\n",
    "    model_name=\"target_rc\",\n",
    "    parameters_name=\"target_rc\",\n",
    "    clp_link_tolerance=1.9,\n",
    "    # maximum_number_function_evaluations=7,\n",
    ")"
   ]
  },
  {
   "cell_type": "markdown",
   "id": "500eddb2",
   "metadata": {},
   "source": [
    "## Inspect fit quality\n"
   ]
  },
  {
   "cell_type": "code",
   "execution_count": null,
   "id": "d524ac5f",
   "metadata": {},
   "outputs": [],
   "source": [
    "result"
   ]
  },
  {
   "attachments": {},
   "cell_type": "markdown",
   "id": "8c474f25",
   "metadata": {},
   "source": [
    "**Note**: Due to the additional clp constraints the Number of conditionally linear parameters has decreased from `1197` to `1151`"
   ]
  },
  {
   "attachments": {},
   "cell_type": "markdown",
   "id": "7f34453e",
   "metadata": {
    "tags": []
   },
   "source": [
    "## Plot fitted traces\n"
   ]
  },
  {
   "cell_type": "code",
   "execution_count": null,
   "id": "980fe839",
   "metadata": {
    "tags": []
   },
   "outputs": [],
   "source": [
    "from pyglotaran_extras.plotting.plot_traces import plot_fitted_traces\n",
    "from pyglotaran_extras.plotting.plot_traces import select_plot_wavelengths\n",
    "\n",
    "wavelengths = select_plot_wavelengths(result, equidistant_wavelengths=False, axes_shape=[6, 5])\n",
    "fig3tr, axes = plot_fitted_traces(result, wavelengths, axes_shape=[6, 5], linlog=True, linthresh=1)"
   ]
  },
  {
   "cell_type": "code",
   "execution_count": null,
   "id": "354f6e60",
   "metadata": {
    "tags": []
   },
   "outputs": [],
   "source": [
    "# wavelengths = select_plot_wavelengths(result, equidistant_wavelengths=False, axes_shape=[6, 5])\n",
    "from cycler import cycler\n",
    "\n",
    "wavelengths = select_plot_wavelengths(result, equidistant_wavelengths=False, axes_shape=[2, 2])\n",
    "wavelengths = [460, 530, 580, 636]\n",
    "select_plot_wavelengths(result, equidistant_wavelengths=False, axes_shape=[2, 2])\n",
    "fig3tr, axes = plot_fitted_traces(\n",
    "    result,\n",
    "    wavelengths,\n",
    "    axes_shape=[2, 2],\n",
    "    figsize=(10, 5),\n",
    "    title=\"Fit overview of rc in CH$_2$Cl$_2$\",\n",
    "    cycler=cycler(color=[\"r\", \"k\"]),\n",
    "    linlog=True,\n",
    "    linthresh=1,\n",
    ")\n",
    "\n",
    "for ax in axes.flatten():\n",
    "    ax.axhline(0, color=\"k\", linewidth=1)\n",
    "    ax.set_xlabel(\"Time (ps)\")\n",
    "    ax.set_ylabel(\"\")"
   ]
  },
  {
   "cell_type": "code",
   "execution_count": null,
   "id": "1bea1a6c",
   "metadata": {
    "tags": []
   },
   "outputs": [],
   "source": [
    "# wavelengths = select_plot_wavelengths(result, equidistant_wavelengths=False, axes_shape=[6, 5])\n",
    "wavelengths[0:4]"
   ]
  },
  {
   "attachments": {},
   "cell_type": "markdown",
   "id": "0808c0da",
   "metadata": {
    "tags": []
   },
   "source": [
    "# Plot result for interpretation\n",
    "\n",
    "## Overview\n"
   ]
  },
  {
   "cell_type": "code",
   "execution_count": null,
   "id": "40a3fddc",
   "metadata": {
    "tags": []
   },
   "outputs": [],
   "source": [
    "from pyglotaran_extras import plot_overview\n",
    "\n",
    "plot_overview(result, linlog=True, linthresh=1, figure_only=False);"
   ]
  },
  {
   "attachments": {},
   "cell_type": "markdown",
   "id": "e7dc1db0",
   "metadata": {
    "tags": []
   },
   "source": [
    "## Coherent Artifact\n"
   ]
  },
  {
   "cell_type": "code",
   "execution_count": null,
   "id": "65ad7fca",
   "metadata": {
    "tags": []
   },
   "outputs": [],
   "source": [
    "result.data[\"rc\"]"
   ]
  },
  {
   "cell_type": "code",
   "execution_count": null,
   "id": "5fec1408",
   "metadata": {
    "tags": []
   },
   "outputs": [],
   "source": [
    "from pyglotaran_extras import plot_coherent_artifact\n",
    "\n",
    "fig, axes = plot_coherent_artifact(result.data[\"rc\"], time_range=(-0.3, 0.3), figsize=(10, 4))\n",
    "axes[0].set_xlabel(\"Time (ps)\")\n",
    "axes[0].get_legend().remove()\n",
    "axes[1].set_xlabel(\"Wavelength (nm)\")\n",
    "axes[0].set_ylabel(\"\")\n",
    "axes[0].annotate(\"A\", xy=(0.02, 0.9), xycoords=\"axes fraction\", fontsize=16)\n",
    "axes[1].annotate(\"B\", xy=(0.02, 0.9), xycoords=\"axes fraction\", fontsize=16)\n",
    "fig.tight_layout()"
   ]
  },
  {
   "cell_type": "code",
   "execution_count": null,
   "id": "036dc4e3",
   "metadata": {
    "tags": []
   },
   "outputs": [],
   "source": [
    "fig, axes = plot_concentration_and_spectra(result.data[\"rc\"])\n",
    "axes[0].set_xlabel(\"Time (ps)\")\n",
    "axes[0].set_ylabel(\"\")\n",
    "axes[0].axhline(0, color=\"k\", linewidth=1)\n",
    "axes[1].set_xlabel(\"Wavelength (nm)\")\n",
    "axes[1].set_ylabel(\"SADS (mOD)\")\n",
    "axes[1].set_title(\"SADS\")\n",
    "axes[1].axhline(0, color=\"k\", linewidth=1)\n",
    "axes[0].annotate(\"A\", xy=(-0.05, 1.02), xycoords=\"axes fraction\", fontsize=16)\n",
    "axes[1].annotate(\"B\", xy=(-0.05, 1.02), xycoords=\"axes fraction\", fontsize=16)"
   ]
  },
  {
   "cell_type": "code",
   "execution_count": null,
   "id": "398880eb",
   "metadata": {
    "tags": []
   },
   "outputs": [],
   "source": [
    "from pyglotaran_extras.plotting.plot_residual import plot_residual\n",
    "from pyglotaran_extras.plotting.plot_svd import plot_lsv_residual\n",
    "from pyglotaran_extras.plotting.plot_svd import plot_rsv_residual\n",
    "\n",
    "\n",
    "def plot_residual_and_svd(result_dataset):\n",
    "    fig, axes = plt.subplots(1, 3, figsize=(10, 2))\n",
    "    plot_residual(result_dataset, axes[0])\n",
    "    axes[0].get_legend().remove()\n",
    "    axes[0].set_ylabel(\"Wavelength (nm)\")\n",
    "    plot_lsv_residual(result_dataset, axes[1], indices=[0])\n",
    "    axes[1].get_legend().remove()\n",
    "    axes[1].set_ylabel(\"\")\n",
    "    axes[1].set_title(\"residual 1st LSV\")\n",
    "    plot_rsv_residual(result_dataset, axes[2], indices=[0])\n",
    "    axes[2].set_xlabel(\"Wavelength (nm)\")\n",
    "    axes[2].set_title(\"residual 1st RSV\")\n",
    "    axes[2].get_legend().remove()\n",
    "    axes[2].set_ylabel(\"\")\n",
    "    return fig, axes\n",
    "\n",
    "\n",
    "fig, axes = plot_residual_and_svd(result.data[\"rc\"])"
   ]
  },
  {
   "attachments": {},
   "cell_type": "markdown",
   "id": "013cac07",
   "metadata": {
    "tags": []
   },
   "source": [
    "## Create the guidance data sets"
   ]
  },
  {
   "cell_type": "code",
   "execution_count": null,
   "id": "f454c870",
   "metadata": {
    "tags": []
   },
   "outputs": [],
   "source": [
    "for species in result.data[\"rc\"].species.values:\n",
    "    clp_guide = result.create_clp_guide_dataset(species, \"rc\")\n",
    "    project.import_data(clp_guide, dataset_name=f\"guide_rcg_{species}\", allow_overwrite=True)"
   ]
  }
 ],
 "metadata": {
  "kernelspec": {
   "display_name": "pyglotaran310",
   "language": "python",
   "name": "python3"
  },
  "language_info": {
   "codemirror_mode": {
    "name": "ipython",
    "version": 3
   },
   "file_extension": ".py",
   "mimetype": "text/x-python",
   "name": "python",
   "nbconvert_exporter": "python",
   "pygments_lexer": "ipython3"
  }
 },
 "nbformat": 4,
 "nbformat_minor": 5
}
