{
  "cells": [
    {
      "attachments": {},
      "cell_type": "markdown",
      "id": "59ff4305",
      "metadata": {
        "tags": []
      },
      "source": [
        "# Transient absorption case study of the chromophoric systems rc and rcg\n",
        "## part 1 rc target"
      ]
    },
    {
      "attachments": {},
      "cell_type": "markdown",
      "id": "211f9a91",
      "metadata": {
        "tags": []
      },
      "source": [
        "van Stokkum IHM, Wohlmuth C, Würthner F, Williams RM (2022) Energy transfer in supramolecular calix[4]arene—Perylene bisimide dye light harvesting building blocks: Resolving loss processes with simultaneous target analysis. Journal of Photochemistry and Photobiology 12:100154. doi:https://doi.org/10.1016/j.jpap.2022.100154"
      ]
    },
    {
      "attachments": {},
      "cell_type": "markdown",
      "id": "8aea71ad",
      "metadata": {
        "tags": []
      },
      "source": [
        "# Inspect experimental data\n"
      ]
    },
    {
      "cell_type": "code",
      "execution_count": null,
      "id": "965477f2",
      "metadata": {
        "tags": []
      },
      "outputs": [],
      "source": [
        "from glotaran.project import Project\n",
        "\n",
        "project = Project.open(\"\")\n",
        "project.import_data(\"measured_data/Kcr.ascii\", dataset_name=\"rc\", ignore_existing=True)"
      ]
    },
    {
      "cell_type": "code",
      "execution_count": null,
      "id": "4223271e",
      "metadata": {},
      "outputs": [],
      "source": [
        "from pyglotaran_extras import plot_data_overview\n",
        "\n",
        "plot_data_overview(project.data[\"rc\"], linlog=True, linthresh=1);"
      ]
    },
    {
      "attachments": {},
      "cell_type": "markdown",
      "id": "fec3a6c4",
      "metadata": {
        "tags": []
      },
      "source": [
        "# Model and Parameter definition\n"
      ]
    },
    {
      "cell_type": "code",
      "execution_count": null,
      "id": "416a0e29",
      "metadata": {
        "tags": []
      },
      "outputs": [],
      "source": [
        "project.show_model_definition(\"target_rc\")"
      ]
    },
    {
      "cell_type": "code",
      "execution_count": null,
      "id": "d202221b",
      "metadata": {
        "tags": []
      },
      "outputs": [],
      "source": [
        "project.show_parameters_definition(\"target_rc\")"
      ]
    },
    {
      "attachments": {},
      "cell_type": "markdown",
      "id": "8dd24ddb",
      "metadata": {
        "tags": []
      },
      "source": [
        "# Optimization\n"
      ]
    },
    {
      "attachments": {},
      "cell_type": "markdown",
      "id": "1af11e42",
      "metadata": {
        "tags": []
      },
      "source": [
        "- 3              4         3.2520e+03      2.91e-05       6.71e-06       4.70e-01"
      ]
    },
    {
      "cell_type": "code",
      "execution_count": null,
      "id": "c675e5f1",
      "metadata": {
        "tags": []
      },
      "outputs": [],
      "source": [
        "result = project.optimize(\n",
        "    model_name=\"target_rc\",\n",
        "    parameters_name=\"target_rc\",\n",
        "    clp_link_tolerance=1.9,\n",
        "    maximum_number_function_evaluations=7,\n",
        ")"
      ]
    },
    {
      "attachments": {},
      "cell_type": "markdown",
      "id": "8c960d46",
      "metadata": {
        "tags": []
      },
      "source": [
        "## Inspect fit quality\n"
      ]
    },
    {
      "cell_type": "code",
      "execution_count": null,
      "id": "088b8c25",
      "metadata": {
        "tags": []
      },
      "outputs": [],
      "source": [
        "result"
      ]
    },
    {
      "attachments": {},
      "cell_type": "markdown",
      "id": "75161de7",
      "metadata": {
        "tags": []
      },
      "source": [
        "## the number of clp is 7*nl (nl=number of wavelengths) the true Degrees of freedom is thus 7*nl smaller"
      ]
    },
    {
      "cell_type": "code",
      "execution_count": null,
      "id": "68bad98c",
      "metadata": {
        "tags": []
      },
      "outputs": [],
      "source": [
        "result.data[\"rc\"].spectral.size"
      ]
    },
    {
      "cell_type": "code",
      "execution_count": null,
      "id": "74db2d71",
      "metadata": {
        "tags": []
      },
      "outputs": [],
      "source": [
        "171 * 7"
      ]
    },
    {
      "attachments": {},
      "cell_type": "markdown",
      "id": "567d4f1f",
      "metadata": {
        "tags": []
      },
      "source": [
        "## Plot fitted traces\n"
      ]
    },
    {
      "cell_type": "code",
      "execution_count": null,
      "id": "e0489038",
      "metadata": {
        "tags": []
      },
      "outputs": [],
      "source": [
        "from pyglotaran_extras.plotting.plot_traces import plot_fitted_traces\n",
        "from pyglotaran_extras.plotting.plot_traces import select_plot_wavelengths\n",
        "\n",
        "wavelengths = select_plot_wavelengths(result, equidistant_wavelengths=False, axes_shape=[6, 5])\n",
        "fig3tr, axes = plot_fitted_traces(result, wavelengths, axes_shape=[6, 5], linlog=True, linthresh=1)"
      ]
    },
    {
      "cell_type": "code",
      "execution_count": null,
      "id": "213eb5b5",
      "metadata": {
        "tags": []
      },
      "outputs": [],
      "source": [
        "# wavelengths = select_plot_wavelengths(result, equidistant_wavelengths=False, axes_shape=[6, 5])\n",
        "from cycler import cycler\n",
        "\n",
        "wavelengths = select_plot_wavelengths(result, equidistant_wavelengths=False, axes_shape=[2, 2])\n",
        "wavelengths = [460, 530, 580, 636]\n",
        "select_plot_wavelengths(result, equidistant_wavelengths=False, axes_shape=[2, 2])\n",
        "fig3tr, axes = plot_fitted_traces(\n",
        "    result,\n",
        "    wavelengths,\n",
        "    axes_shape=[2, 2],\n",
        "    figsize=(10, 5),\n",
        "    title=\"Fit overview of rc in CH$_2$Cl$_2$\",\n",
        "    cycler=cycler(color=[\"r\", \"k\"]),\n",
        "    linlog=True,\n",
        "    linthresh=1,\n",
        ")\n",
        "\n",
        "for ax in axes.flatten():\n",
        "    ax.axhline(0, color=\"k\", linewidth=1)\n",
        "    ax.set_xlabel(\"Time (ps)\")\n",
        "    ax.set_ylabel(\"\")"
      ]
    },
    {
      "cell_type": "code",
      "execution_count": null,
      "id": "426f833d",
      "metadata": {
        "tags": []
      },
      "outputs": [],
      "source": [
        "# wavelengths = select_plot_wavelengths(result, equidistant_wavelengths=False, axes_shape=[6, 5])\n",
        "wavelengths[0:4]"
      ]
    },
    {
      "attachments": {},
      "cell_type": "markdown",
      "id": "123048b7",
      "metadata": {
        "tags": []
      },
      "source": [
        "# Plot result for interpretation\n",
        "\n",
        "## Overview\n"
      ]
    },
    {
      "cell_type": "code",
      "execution_count": null,
      "id": "8a4628a7",
      "metadata": {
        "tags": []
      },
      "outputs": [],
      "source": [
        "from pyglotaran_extras import plot_overview\n",
        "\n",
        "plot_overview(result, linlog=True, linthresh=1, figure_only=False);"
      ]
    },
    {
      "cell_type": "code",
      "execution_count": null,
      "id": "b604f715",
      "metadata": {
        "tags": []
      },
      "outputs": [],
      "source": [
        "# from pyglotaran_extras import plot_sas\n",
        "# from pyglotaran_extras import plot_concentrations\n",
        "# import pyglotaran_extras\n",
        "\n",
        "# # NB this fails! why?\n",
        "# plot_concentrations(result, linlog=True, linthresh=1, figure_only=False);\n",
        "# plot_sas(result, figure_only=False);"
      ]
    },
    {
      "attachments": {},
      "cell_type": "markdown",
      "id": "26b3c794",
      "metadata": {
        "tags": []
      },
      "source": [
        "## Coherent Artifact\n"
      ]
    },
    {
      "cell_type": "code",
      "execution_count": null,
      "id": "c5b93689",
      "metadata": {
        "tags": []
      },
      "outputs": [],
      "source": [
        "result.data"
      ]
    },
    {
      "cell_type": "code",
      "execution_count": null,
      "id": "569a707e",
      "metadata": {},
      "outputs": [],
      "source": [
        "from pyglotaran_extras import plot_coherent_artifact\n",
        "\n",
        "fig, axes = plot_coherent_artifact(result.data[\"rc\"], time_range=(-0.3, 0.3), figsize=(10, 2.5))\n",
        "axes[0].set_xlabel(\"Time (ps)\")\n",
        "axes[0].get_legend().remove()\n",
        "axes[1].set_xlabel(\"Wavelength (nm)\")\n",
        "axes[0].set_ylabel(\"\")\n",
        "axes[0].annotate(\"A\", xy=(0.01, 0.9), xycoords=\"axes fraction\", fontsize=16)\n",
        "axes[1].annotate(\"B\", xy=(0.01, 0.9), xycoords=\"axes fraction\", fontsize=16)"
      ]
    },
    {
      "cell_type": "code",
      "execution_count": null,
      "id": "6f3548af",
      "metadata": {
        "tags": []
      },
      "outputs": [],
      "source": [
        "import matplotlib.pyplot as plt\n",
        "from cycler import cycler\n",
        "from pyglotaran_extras.plotting.plot_concentrations import plot_concentrations\n",
        "from pyglotaran_extras.plotting.plot_spectra import plot_sas\n",
        "\n",
        "myFRLcolors = [\n",
        "    \"tab:grey\",\n",
        "    \"tab:orange\",\n",
        "    \"r\",\n",
        "    \"tab:purple\",\n",
        "    \"b\",\n",
        "    \"g\",\n",
        "    \"m\",\n",
        "    \"c\",\n",
        "    \"y\",\n",
        "    \"k\",\n",
        "    \"tab:brown\",\n",
        "]\n",
        "custom_cycler = cycler(color=myFRLcolors)\n",
        "\n",
        "\n",
        "def plot_concentration_and_spectra(result_dataset):\n",
        "    # fig, axes = plt.subplots(1, 2, figsize=(18, 7))\n",
        "    fig, axes = plt.subplots(1, 2, figsize=(15, 4))\n",
        "    plot_concentrations(result_dataset, axes[0], center_λ=0, linlog=True, cycler=custom_cycler)\n",
        "    plot_sas(result_dataset, axes[1], cycler=custom_cycler)\n",
        "    return fig, axes\n",
        "\n",
        "\n",
        "fig, axes = plot_concentration_and_spectra(result.data[\"rc\"])\n",
        "axes[0].set_xlabel(\"Time (ps)\")\n",
        "axes[0].set_ylabel(\"\")\n",
        "axes[0].axhline(0, color=\"k\", linewidth=1)\n",
        "axes[1].set_xlabel(\"Wavelength (nm)\")\n",
        "axes[1].set_ylabel(\"SADS (mOD)\")\n",
        "axes[1].set_title(\"SADS\")\n",
        "axes[1].axhline(0, color=\"k\", linewidth=1)\n",
        "axes[0].annotate(\"A\", xy=(-0.05, 1.02), xycoords=\"axes fraction\", fontsize=16)\n",
        "axes[1].annotate(\"B\", xy=(-0.05, 1.02), xycoords=\"axes fraction\", fontsize=16)"
      ]
    },
    {
      "cell_type": "code",
      "execution_count": null,
      "id": "c3d3da91",
      "metadata": {
        "tags": []
      },
      "outputs": [],
      "source": [
        "from pyglotaran_extras.plotting.plot_residual import plot_residual\n",
        "from pyglotaran_extras.plotting.plot_svd import plot_lsv_residual\n",
        "from pyglotaran_extras.plotting.plot_svd import plot_rsv_residual\n",
        "\n",
        "\n",
        "def plot_residual_and_svd(result_dataset):\n",
        "    fig, axes = plt.subplots(1, 3, figsize=(10, 2))\n",
        "    plot_residual(result_dataset, axes[0])\n",
        "    axes[0].get_legend().remove()\n",
        "    axes[0].set_ylabel(\"Wavelength (nm)\")\n",
        "    plot_lsv_residual(result_dataset, axes[1], indices=[0])\n",
        "    axes[1].get_legend().remove()\n",
        "    axes[1].set_ylabel(\"\")\n",
        "    axes[1].set_title(\"residual 1st LSV\")\n",
        "    plot_rsv_residual(result_dataset, axes[2], indices=[0])\n",
        "    axes[2].set_xlabel(\"Wavelength (nm)\")\n",
        "    axes[2].set_title(\"residual 1st RSV\")\n",
        "    axes[2].get_legend().remove()\n",
        "    axes[2].set_ylabel(\"\")\n",
        "    return fig, axes\n",
        "\n",
        "\n",
        "fig, axes = plot_residual_and_svd(result.data[\"rc\"])"
      ]
    },
    {
      "cell_type": "code",
      "execution_count": null,
      "id": "a544a907",
      "metadata": {
        "tags": []
      },
      "outputs": [],
      "source": [
        "fig, axes = plot_residual_and_svd(result.data[\"rc\"])"
      ]
    },
    {
      "attachments": {},
      "cell_type": "markdown",
      "id": "5bbaa1ea",
      "metadata": {
        "tags": []
      },
      "source": [
        "## Create the guidance data sets"
      ]
    },
    {
      "cell_type": "code",
      "execution_count": null,
      "id": "876d1ae7",
      "metadata": {
        "tags": []
      },
      "outputs": [],
      "source": [
        "from glotaran.utils.io import create_clp_guide_dataset\n",
        "\n",
        "for species in result.data[\"rc\"].species.values:\n",
        "    clp_guide = create_clp_guide_dataset(result.data[\"rc\"], species)\n",
        "    project.import_data(\n",
        "        clp_guide, dataset_name=f\"guide/clp_guide__rc__{species}\", ignore_existing=True\n",
        "    )"
      ]
    }
  ],
  "metadata": {
    "kernelspec": {
      "display_name": "pyglotaran310",
      "language": "python",
      "name": "python3"
    },
    "language_info": {
      "codemirror_mode": {
        "name": "ipython",
        "version": 3
      },
      "file_extension": ".py",
      "mimetype": "text/x-python",
      "name": "python",
      "nbconvert_exporter": "python",
      "pygments_lexer": "ipython3"
    }
  },
  "nbformat": 4,
  "nbformat_minor": 5
}
