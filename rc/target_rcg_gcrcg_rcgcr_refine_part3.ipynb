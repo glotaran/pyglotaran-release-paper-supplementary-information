{
 "cells": [
  {
   "cell_type": "markdown",
   "id": "2612b08c",
   "metadata": {
    "tags": []
   },
   "source": [
    "# Transient absorption case study of the chromophoric systems rc and rcg"
   ]
  },
  {
   "attachments": {},
   "cell_type": "markdown",
   "id": "4019a53d",
   "metadata": {
    "tags": []
   },
   "source": [
    "## part 3 simultaneous target of rcg, rcgcr and gcrcg "
   ]
  },
  {
   "cell_type": "markdown",
   "id": "4d8f4dd6",
   "metadata": {
    "tags": []
   },
   "source": [
    "van Stokkum IHM, Wohlmuth C, Würthner F, Williams RM (2022) Energy transfer in supramolecular calix[4]arene—Perylene bisimide dye light harvesting building blocks: Resolving loss processes with simultaneous target analysis. Journal of Photochemistry and Photobiology 12:100154. doi:https://doi.org/10.1016/j.jpap.2022.100154"
   ]
  },
  {
   "attachments": {},
   "cell_type": "markdown",
   "id": "3a00be5c",
   "metadata": {
    "tags": []
   },
   "source": [
    "# Inspect experimental data\n"
   ]
  },
  {
   "cell_type": "code",
   "execution_count": null,
   "id": "127dcf2e",
   "metadata": {
    "tags": []
   },
   "outputs": [],
   "source": [
    "from pyglotaran_extras import plot_data_overview\n",
    "\n",
    "experiment_data = {\n",
    "    \"tas_rcg_dcm\": \"data/Krg_grga.ascii\",\n",
    "    \"tas_gcrcg_dcm\": \"data/Krg_grgb.ascii\",\n",
    "    \"guide_rcg_r1\": \"data/Krg_grgc.ascii\",\n",
    "    \"guide_rcg_r2\": \"data/Krg_grgd.ascii\",\n",
    "    \"guide_rcg_r3\": \"data/Krg_grge.ascii\",\n",
    "    \"guide_rcg_r4\": \"data/Krg_grgf.ascii\",\n",
    "    \"tas_rcgcr_dcm\": \"data/Krgr_grga.ascii\",\n",
    "    \"guide_rcg_g\": \"data/Krg_grgg.ascii\",\n",
    "    \"guide_gcrcg_g\": \"data/Krg_grgg.ascii\",\n",
    "    \"guide_rcgcr_g\": \"data/Krg_grgg.ascii\",\n",
    "    \"guide_gcrcg_r1\": \"data/Krg_grgc.ascii\",\n",
    "    \"guide_gcrcg_r2\": \"data/Krg_grgd.ascii\",\n",
    "    \"guide_gcrcg_r3\": \"data/Krg_grge.ascii\",\n",
    "    \"guide_gcrcg_r4\": \"data/Krg_grgf.ascii\",\n",
    "    \"guide_rcgcr_r1\": \"data/Krg_grgc.ascii\",\n",
    "    \"guide_rcgcr_r2\": \"data/Krg_grgd.ascii\",\n",
    "    \"guide_rcgcr_r3\": \"data/Krg_grge.ascii\",\n",
    "    \"guide_rcgcr_r4\": \"data/Krg_grgf.ascii\",\n",
    "}\n",
    "\n",
    "plot_data_overview(experiment_data[\"tas_gcrcg_dcm\"], linlog=True, linthresh=1)"
   ]
  },
  {
   "attachments": {},
   "cell_type": "markdown",
   "id": "16e8f783",
   "metadata": {
    "tags": []
   },
   "source": [
    "# Model and Parameter definition\n"
   ]
  },
  {
   "cell_type": "code",
   "execution_count": null,
   "id": "040bd0c5",
   "metadata": {
    "tags": []
   },
   "outputs": [],
   "source": [
    "# from glotaran.utils.ipython import display_file\n",
    "\n",
    "model_path = \"models/model_target_rcg_gcrcg_rcgcr_refine.yml\"\n",
    "# display_file(model_path, syntax=\"yaml\")"
   ]
  },
  {
   "cell_type": "code",
   "execution_count": null,
   "id": "f3e60e4e",
   "metadata": {
    "tags": []
   },
   "outputs": [],
   "source": [
    "parameters_file_path = \"models/parameters_target_rcg_gcrcg_rcgcr_refine.yml\"\n",
    "# display_file(parameters_file_path, syntax=\"yaml\")"
   ]
  },
  {
   "attachments": {},
   "cell_type": "markdown",
   "id": "72c51b9d",
   "metadata": {
    "tags": []
   },
   "source": [
    "# Optimization\n"
   ]
  },
  {
   "attachments": {},
   "cell_type": "markdown",
   "id": "7cba1a20",
   "metadata": {
    "tags": []
   },
   "source": [
    "- 3              4         8.9523e+03      1.40e-06       6.43e-03       7.56e-03 \n"
   ]
  },
  {
   "cell_type": "code",
   "execution_count": null,
   "id": "8d94cc57",
   "metadata": {
    "tags": []
   },
   "outputs": [],
   "source": [
    "from glotaran.optimization.optimize import optimize\n",
    "from glotaran.project.scheme import Scheme\n",
    "\n",
    "scheme = Scheme(\n",
    "    model_path,\n",
    "    parameters_file_path,\n",
    "    experiment_data,\n",
    "    clp_link_tolerance=1.9,\n",
    "    maximum_number_function_evaluations=7,\n",
    ")\n",
    "result = optimize(scheme)"
   ]
  },
  {
   "attachments": {},
   "cell_type": "markdown",
   "id": "e13d829d",
   "metadata": {
    "tags": []
   },
   "source": [
    "## Inspect fit quality\n"
   ]
  },
  {
   "cell_type": "code",
   "execution_count": null,
   "id": "f30f9a1c",
   "metadata": {
    "tags": []
   },
   "outputs": [],
   "source": [
    "result"
   ]
  },
  {
   "attachments": {},
   "cell_type": "markdown",
   "id": "59ff719d",
   "metadata": {
    "tags": []
   },
   "source": [
    "## Plot fitted traces\n"
   ]
  },
  {
   "cell_type": "code",
   "execution_count": null,
   "id": "933e1f7c",
   "metadata": {
    "tags": []
   },
   "outputs": [],
   "source": [
    "from pyglotaran_extras.plotting.plot_traces import plot_fitted_traces\n",
    "from pyglotaran_extras.plotting.plot_traces import select_plot_wavelengths\n",
    "\n",
    "wavelengths = select_plot_wavelengths(\n",
    "    result.data[\"tas_rcg_dcm\"], equidistant_wavelengths=False, axes_shape=[6, 5]\n",
    ")\n",
    "fig3tr, axes = plot_fitted_traces(result, wavelengths, axes_shape=[6, 5], linlog=True, linthresh=1)"
   ]
  },
  {
   "cell_type": "code",
   "execution_count": null,
   "id": "ba2a1b74",
   "metadata": {
    "tags": []
   },
   "outputs": [],
   "source": [
    "import matplotlib.pyplot as plt\n",
    "from cycler import cycler\n",
    "from pyglotaran_extras.plotting.plot_concentrations import plot_concentrations\n",
    "from pyglotaran_extras.plotting.plot_spectra import plot_sas\n",
    "\n",
    "myFRLcolors = [\n",
    "    \"tab:grey\",\n",
    "    \"tab:orange\",\n",
    "    \"r\",\n",
    "    \"tab:purple\",\n",
    "    \"g\",\n",
    "    \"k\",\n",
    "    \"b\",\n",
    "    \"m\",\n",
    "    \"c\",\n",
    "    \"y\",\n",
    "    \"tab:brown\",\n",
    "]\n",
    "custom_cycler = cycler(color=myFRLcolors)\n",
    "\n",
    "\n",
    "def plot_concentration_and_spectra(result_dataset):\n",
    "    # fig, axes = plt.subplots(1, 2, figsize=(18, 7))\n",
    "    fig, axes = plt.subplots(1, 2, figsize=(15, 4))\n",
    "    plot_concentrations(result_dataset, axes[0], center_λ=0, linlog=True, cycler=custom_cycler)\n",
    "    plot_sas(result_dataset, axes[1], cycler=custom_cycler)\n",
    "    return fig, axes\n",
    "\n",
    "\n",
    "fig, axes = plot_concentration_and_spectra(result.data[\"tas_rcg_dcm\"])\n",
    "axes[0].set_xlabel(\"Time (ps)\")\n",
    "axes[0].set_ylabel(\"\")\n",
    "axes[0].axhline(0, color=\"k\", linewidth=1)\n",
    "axes[1].set_xlabel(\"Wavelength (nm)\")\n",
    "axes[1].set_ylabel(\"SADS (mOD)\")\n",
    "axes[1].set_title(\"SADS\")\n",
    "axes[1].axhline(0, color=\"k\", linewidth=1)\n",
    "axes[0].annotate(\"A\", xy=(-0.05, 1.02), xycoords=\"axes fraction\", fontsize=16)\n",
    "axes[1].annotate(\"B\", xy=(-0.05, 1.02), xycoords=\"axes fraction\", fontsize=16)"
   ]
  },
  {
   "attachments": {},
   "cell_type": "markdown",
   "id": "29fa1e04",
   "metadata": {
    "tags": []
   },
   "source": [
    "# Plot result for interpretation\n",
    "\n",
    "## Overview\n"
   ]
  },
  {
   "cell_type": "code",
   "execution_count": null,
   "id": "254527e5",
   "metadata": {
    "tags": []
   },
   "outputs": [],
   "source": [
    "# from pyglotaran_extras import plot_overview\n",
    "\n",
    "# plot_overview(result, linlog=True, linthresh=1, figure_only=False);"
   ]
  },
  {
   "attachments": {},
   "cell_type": "markdown",
   "id": "19079a0b",
   "metadata": {
    "tags": []
   },
   "source": [
    "## Fit of the guidance SADS of gcrcg\n"
   ]
  },
  {
   "cell_type": "code",
   "execution_count": null,
   "id": "b70145a9",
   "metadata": {
    "tags": []
   },
   "outputs": [],
   "source": [
    "from pyglotaran_extras.plotting.style import PlotStyle\n",
    "\n",
    "# fig, ax = plt.subplots(1, 1, figsize=(15, 7))\n",
    "fig, ax = plt.subplots(1, 1, figsize=(10, 5))\n",
    "ax.set_prop_cycle(PlotStyle().data_cycler_solid_dashed)\n",
    "for data_set_suffix in [\"r1\", \"r2\", \"r3\", \"r4\", \"g\"]:\n",
    "    dataset_name = f\"guide_gcrcg_{data_set_suffix}\"\n",
    "    result.data[dataset_name].data.plot(label=f\"{dataset_name} data\", ax=ax)\n",
    "    result.data[dataset_name].fitted_data.plot(label=f\"{dataset_name} fitted data\", ax=ax)\n",
    "\n",
    "ax.legend()\n",
    "ax.set_xlabel(\"Wavelength (nm)\")\n",
    "ax.set_ylabel(\"SADS (a.u.)\")\n",
    "ax.set_title(\"Fit of the guidance SADS\")\n",
    "ax.axhline(0, color=\"k\", linewidth=1)\n",
    "# axes[0].annotate(\"A\", xy=(-0.05, 1.02), xycoords=\"axes fraction\",fontsize=16)"
   ]
  },
  {
   "attachments": {},
   "cell_type": "markdown",
   "id": "bf0d38d9",
   "metadata": {
    "tags": []
   },
   "source": [
    "## Plot of the concentrations of rcg, rcgcr and gcrcg "
   ]
  },
  {
   "cell_type": "code",
   "execution_count": null,
   "id": "52caf78f",
   "metadata": {
    "tags": []
   },
   "outputs": [],
   "source": [
    "# NB here one needs to select the species_concentration of a single wavelength\n",
    "import xarray as xr\n",
    "from cycler import cycler\n",
    "\n",
    "# fig, ax = plt.subplots(1, 1, figsize=(15, 7))\n",
    "fig, ax = plt.subplots(1, 1, figsize=(10, 5))\n",
    "myFRLcolors = [\"tab:grey\", \"tab:orange\", \"r\", \"tab:purple\", \"g\", \"k\"]\n",
    "center_λ = 600\n",
    "\n",
    "\n",
    "def plot_concentrations_compare(dataset=xr.Dataset, linestyle=str):\n",
    "    plot_concentrations(\n",
    "        dataset,\n",
    "        ax=ax,\n",
    "        center_λ=center_λ,\n",
    "        cycler=cycler(color=myFRLcolors, linestyle=[linestyle] * 6),\n",
    "        linlog=True,\n",
    "        linthresh=1,\n",
    "    )\n",
    "\n",
    "\n",
    "plot_concentrations_compare(result.data[\"tas_rcg_dcm\"], \"-\")\n",
    "plot_concentrations_compare(result.data[\"tas_gcrcg_dcm\"], \"--\")\n",
    "plot_concentrations_compare(result.data[\"tas_rcgcr_dcm\"], \":\")\n",
    "\n",
    "\n",
    "ax.set_xlabel(\"Time (ps)\")\n",
    "ax.set_ylabel(\"Population\")\n",
    "ax.legend(result.data[\"tas_rcg_dcm\"].species.values);"
   ]
  },
  {
   "attachments": {},
   "cell_type": "markdown",
   "id": "ecbb8a6e",
   "metadata": {
    "tags": []
   },
   "source": [
    "## Coherent Artifact\n"
   ]
  },
  {
   "cell_type": "code",
   "execution_count": null,
   "id": "9ef409e0",
   "metadata": {
    "tags": []
   },
   "outputs": [],
   "source": [
    "from pyglotaran_extras import plot_coherent_artifact\n",
    "\n",
    "irfas_plot_wavelength = 420\n",
    "\n",
    "plot_coherent_artifact(\n",
    "    result.data[\"tas_rcg_dcm\"], time_range=(-0.3, 0.3), spectral=irfas_plot_wavelength\n",
    ");"
   ]
  },
  {
   "cell_type": "code",
   "execution_count": null,
   "id": "042e4387",
   "metadata": {
    "tags": []
   },
   "outputs": [],
   "source": [
    "plot_coherent_artifact(\n",
    "    result.data[\"tas_gcrcg_dcm\"], time_range=(-0.3, 0.3), spectral=irfas_plot_wavelength\n",
    ");"
   ]
  },
  {
   "cell_type": "code",
   "execution_count": null,
   "id": "ed965fde",
   "metadata": {
    "tags": []
   },
   "outputs": [],
   "source": [
    "# NB clipped at the left, can we choose to plot the irf at another wavelength?\n",
    "plot_coherent_artifact(\n",
    "    result.data[\"tas_rcgcr_dcm\"], time_range=(-0.3, 0.3), spectral=irfas_plot_wavelength\n",
    ");"
   ]
  },
  {
   "attachments": {},
   "cell_type": "markdown",
   "id": "e3115f31",
   "metadata": {
    "tags": []
   },
   "source": [
    "## Amplitude matrices of the target analysis for each dataset"
   ]
  },
  {
   "cell_type": "code",
   "execution_count": null,
   "id": "1d8143dd",
   "metadata": {
    "tags": []
   },
   "outputs": [],
   "source": [
    "from pyglotaran_extras.inspect import show_a_matrixes\n",
    "\n",
    "show_a_matrixes(result)"
   ]
  }
 ],
 "metadata": {
  "kernelspec": {
   "display_name": "pyglotaran310",
   "language": "python",
   "name": "python3"
  },
  "language_info": {
   "codemirror_mode": {
    "name": "ipython",
    "version": 3
   },
   "file_extension": ".py",
   "mimetype": "text/x-python",
   "name": "python",
   "nbconvert_exporter": "python",
   "pygments_lexer": "ipython3"
  }
 },
 "nbformat": 4,
 "nbformat_minor": 5
}
